{
  "nbformat": 4,
  "nbformat_minor": 0,
  "metadata": {
    "colab": {
      "private_outputs": true,
      "provenance": [],
      "gpuType": "T4",
      "authorship_tag": "ABX9TyNv63fxNH9CtnTe9PL8afkY",
      "include_colab_link": true
    },
    "kernelspec": {
      "name": "python3",
      "display_name": "Python 3"
    },
    "language_info": {
      "name": "python"
    },
    "accelerator": "GPU"
  },
  "cells": [
    {
      "cell_type": "markdown",
      "metadata": {
        "id": "view-in-github",
        "colab_type": "text"
      },
      "source": [
        "<a href=\"https://colab.research.google.com/github/Sakthi1030/Resource-allocation-in-5g-network-using-KNN/blob/main/code.ipynb\" target=\"_parent\"><img src=\"https://colab.research.google.com/assets/colab-badge.svg\" alt=\"Open In Colab\"/></a>"
      ]
    },
    {
      "cell_type": "code",
      "execution_count": null,
      "metadata": {
        "id": "nkZ9NF4iJZb4"
      },
      "outputs": [],
      "source": [
        "from google.colab import drive\n",
        "drive.mount('/content/drive')"
      ]
    },
    {
      "cell_type": "code",
      "source": [
        "import os\n",
        "\n",
        "\n",
        "data_path = '/content/drive/MyDrive/KNN/R_S.csv'\n",
        "if os.path.exists(data_path):\n",
        "    print(\"File found.\")\n",
        "else:\n",
        "    print(\"No such file or directory.\")\n"
      ],
      "metadata": {
        "id": "fkmj6KjvL10j"
      },
      "execution_count": null,
      "outputs": []
    },
    {
      "cell_type": "code",
      "source": [
        "import pandas as pd\n",
        "df = pd.read_csv(data_path)\n"
      ],
      "metadata": {
        "id": "FR5sHe5JMHbs"
      },
      "execution_count": null,
      "outputs": []
    },
    {
      "cell_type": "code",
      "source": [
        "import pandas as pd\n",
        "import numpy as np\n",
        "from sklearn.impute import SimpleImputer\n",
        "from sklearn.preprocessing import StandardScaler\n",
        "from sklearn.model_selection import train_test_split, GridSearchCV\n",
        "from sklearn.neighbors import KNeighborsClassifier\n",
        "from sklearn.metrics import classification_report, confusion_matrix\n",
        "import matplotlib.pyplot as plt\n",
        "import seaborn as sns\n",
        "\n",
        "def preprocess_and_classify_slices(df):\n",
        "\n",
        "    df.replace('-', np.nan, inplace=True)\n",
        "\n",
        "    df.dropna(axis=1, how='all', inplace=True)\n",
        "\n",
        "    numeric_cols = df.select_dtypes(include=['float64', 'int64']).columns\n",
        "    imputer = SimpleImputer(strategy='mean')\n",
        "    df[numeric_cols] = imputer.fit_transform(df[numeric_cols])\n",
        "\n",
        "    df['NRxRSRP'] = pd.to_numeric(df['NRxRSRP'], errors='coerce')\n",
        "    df['NRxRSRQ'] = pd.to_numeric(df['NRxRSRQ'], errors='coerce')\n",
        "\n",
        "    df['NRxRSRP'].fillna(df['NRxRSRP'].mean(), inplace=True)\n",
        "    df['NRxRSRQ'].fillna(df['NRxRSRQ'].mean(), inplace=True)\n",
        "\n",
        "    df['Network_Quality'] = df.apply(lambda row: (row['NRxRSRP'] + row['NRxRSRQ']) / 2, axis=1)\n",
        "\n",
        "    df.drop(columns=['Timestamp', 'Operatorname', 'NetworkMode', 'RSSI',\n",
        "                     'State', 'CELLHEX', 'NODEHEX', 'LACHEX'], inplace=True)\n",
        "\n",
        "\n",
        "    quantiles = df['Network_Quality'].quantile([0.33, 0.66])\n",
        "    bins = [-float('inf'), quantiles[0.33], quantiles[0.66], float('inf')]\n",
        "    labels = ['Low', 'Medium', 'High']\n",
        "    df['Network_Slice_Class'] = pd.cut(df['Network_Quality'], bins=bins, labels=labels)\n",
        "\n",
        "    print(df['Network_Slice_Class'].value_counts())\n",
        "    return df\n",
        "\n",
        "def plot_classification_results(y_true, y_pred, title):\n",
        "    cm = confusion_matrix(y_true, y_pred)\n",
        "    sns.heatmap(cm, annot=True, fmt=\"d\", cmap=\"Blues\", xticklabels=['Low', 'Medium', 'High'], yticklabels=['Low', 'Medium', 'High'])\n",
        "    plt.title(title)\n",
        "    plt.xlabel('Predicted')\n",
        "    plt.ylabel('Actual')\n",
        "    plt.show()\n",
        "\n",
        "\n",
        "def plot_bandwidth_allocation(df):\n",
        "    plt.figure(figsize=(10, 6))\n",
        "    sns.barplot(x='Network_Slice_Class', y='Allocated_Bandwidth', data=df)\n",
        "    plt.title(\"Bandwidth Allocation by Network Slice Class\")\n",
        "    plt.xlabel(\"Network Slice Class\")\n",
        "    plt.ylabel(\"Allocated Bandwidth (MBps)\")\n",
        "    plt.show()\n",
        "\n",
        "\n",
        "df_static = pd.read_csv('/content/drive/MyDrive/KNN/R_S1.csv')\n",
        "df_driving = pd.read_csv('/content/drive/MyDrive/KNN/R_D.csv')\n",
        "\n",
        "df_static_processed = preprocess_and_classify_slices(df_static)\n",
        "df_driving_processed = preprocess_and_classify_slices(df_driving)\n",
        "\n",
        "df_static_processed['Allocated_Bandwidth'] = df_static_processed['Network_Slice_Class'].map({'Low': 50, 'Medium': 100, 'High': 150})\n",
        "df_driving_processed['Allocated_Bandwidth'] = df_driving_processed['Network_Slice_Class'].map({'Low': 60, 'Medium': 120, 'High': 180})\n",
        "\n",
        "\n",
        "plot_bandwidth_allocation(df_static_processed)\n",
        "plot_bandwidth_allocation(df_driving_processed)\n",
        "\n",
        "X_static = df_static_processed.drop(columns=['Network_Quality', 'Network_Slice_Class', 'Allocated_Bandwidth'])\n",
        "y_static = df_static_processed['Network_Slice_Class']\n",
        "\n",
        "X_driving = df_driving_processed.drop(columns=['Network_Quality', 'Network_Slice_Class', 'Allocated_Bandwidth'])\n",
        "y_driving = df_driving_processed['Network_Slice_Class']\n",
        "\n",
        "\n",
        "scaler = StandardScaler()\n",
        "X_static = scaler.fit_transform(X_static)\n",
        "X_driving = scaler.transform(X_driving)\n",
        "\n",
        "X_train_static, X_test_static, y_train_static, y_test_static = train_test_split(X_static, y_static, test_size=0.2, random_state=42)\n",
        "X_train_driving, X_test_driving, y_train_driving, y_test_driving = train_test_split(X_driving, y_driving, test_size=0.2, random_state=42)\n",
        "\n",
        "param_grid = {\n",
        "    'n_neighbors': np.arange(3, 20),\n",
        "    'weights': ['uniform', 'distance'],\n",
        "    'metric': ['euclidean', 'manhattan', 'minkowski']\n",
        "}\n",
        "\n",
        "\n",
        "knn = KNeighborsClassifier()\n",
        "grid_search_static = GridSearchCV(knn, param_grid, cv=5, scoring='accuracy')\n",
        "grid_search_static.fit(X_train_static, y_train_static)\n",
        "\n",
        "print(\"Best parameters for static:\", grid_search_static.best_params_)\n",
        "print(\"Best score for static:\", grid_search_static.best_score_)\n",
        "\n",
        "y_pred_static = grid_search_static.best_estimator_.predict(X_test_static)\n",
        "print(\"Static Environment Results:\")\n",
        "print(classification_report(y_test_static, y_pred_static))\n",
        "plot_classification_results(y_test_static, y_pred_static, \"Static Environment Confusion Matrix\")\n",
        "\n",
        "grid_search_driving = GridSearchCV(knn, param_grid, cv=5, scoring='accuracy')\n",
        "grid_search_driving.fit(X_train_driving, y_train_driving)\n",
        "\n",
        "print(\"Best parameters for driving:\", grid_search_driving.best_params_)\n",
        "print(\"Best score for driving:\", grid_search_driving.best_score_)\n",
        "\n",
        "y_pred_driving = grid_search_driving.best_estimator_.predict(X_test_driving)\n",
        "print(\"Driving Environment Results:\")\n",
        "print(classification_report(y_test_driving, y_pred_driving))\n",
        "plot_classification_results(y_test_driving, y_pred_driving, \"Driving Environment Confusion Matrix\")\n"
      ],
      "metadata": {
        "id": "NuV5e56IkxyM"
      },
      "execution_count": null,
      "outputs": []
    },
    {
      "cell_type": "code",
      "source": [
        "import numpy as np\n",
        "import pandas as pd\n",
        "import matplotlib.pyplot as plt\n",
        "\n",
        "\n",
        "def generate_traffic_demand(df):\n",
        "    np.random.seed(42)\n",
        "    traffic_demand = np.random.rand(len(df))\n",
        "    df['Traffic_Demand'] = traffic_demand\n",
        "    return df\n",
        "\n",
        "def dynamic_resource_allocation(df):\n",
        "\n",
        "    base_bandwidth = {'Low': 50, 'Medium': 100, 'High': 150}\n",
        "    df['Allocated_Bandwidth'] = df.apply(\n",
        "        lambda row: base_bandwidth[row['Network_Slice_Class']] +\n",
        "                    (row['Traffic_Demand'] * row['Network_Quality']), axis=1)\n",
        "\n",
        "    return df\n",
        "\n",
        "\n",
        "def visualize_dynamic_allocation(df):\n",
        "\n",
        "    mean_bandwidth = df.groupby('Network_Slice_Class')['Allocated_Bandwidth'].mean()\n",
        "\n",
        "\n",
        "    mean_bandwidth.plot(kind='bar', color='skyblue')\n",
        "    plt.title('Dynamic Bandwidth Allocation by Network Slice Class')\n",
        "    plt.ylabel('Allocated Bandwidth (Mbps)')\n",
        "    plt.show()\n",
        "\n",
        "df_static_processed = generate_traffic_demand(df_static_processed)\n",
        "\n",
        "df_static_processed = dynamic_resource_allocation(df_static_processed)\n",
        "\n",
        "visualize_dynamic_allocation(df_static_processed)\n",
        "\n",
        "df_static_processed.to_csv('dynamic_resource_allocation.csv', index=False)\n"
      ],
      "metadata": {
        "id": "kExPR8CWmN10"
      },
      "execution_count": null,
      "outputs": []
    },
    {
      "cell_type": "code",
      "source": [
        "from sklearn.ensemble import RandomForestClassifier\n",
        "from sklearn.svm import SVC\n",
        "from sklearn.metrics import accuracy_score\n",
        "\n",
        "\n",
        "rf = RandomForestClassifier()\n",
        "rf.fit(X_train_static, y_train_static)\n",
        "y_pred_rf_static = rf.predict(X_test_static)\n",
        "print(\"Random Forest Static Accuracy:\", accuracy_score(y_test_static, y_pred_rf_static))\n",
        "\n",
        "svm = SVC()\n",
        "svm.fit(X_train_static, y_train_static)\n",
        "y_pred_svm_static = svm.predict(X_test_static)\n",
        "print(\"SVM Static Accuracy:\", accuracy_score(y_test_static, y_pred_svm_static))\n"
      ],
      "metadata": {
        "id": "ZCAtZ0j0aAbE"
      },
      "execution_count": null,
      "outputs": []
    },
    {
      "cell_type": "code",
      "source": [
        "df"
      ],
      "metadata": {
        "id": "MfBdvo_NLFDs"
      },
      "execution_count": null,
      "outputs": []
    }
  ]
}